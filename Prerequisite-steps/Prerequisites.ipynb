{
 "cells": [
  {
   "cell_type": "markdown",
   "id": "c17d9abe-aa4a-4a0d-af18-a7e6e8542f61",
   "metadata": {},
   "source": [
    "# Prerequisites for executing the Jupyter Notebooks in this repository\n",
    "\n",
    "\n",
    "## Background:\n",
    "All Jupyter Notebook files in this repository are intended to be executed in a Vertex AI Workbench Notebook.\n",
    "\n",
    "In various chapters, we discuss the importance of the the [least privilege](https://cloud.google.com/iam/docs/using-iam-securely#least_privilege) security principle, and we highlight specific [IAM roles](https://cloud.google.com/iam/docs/roles-overview) that need to be assigned for particular activities.\n",
    "\n",
    "However, to simplify the testing process in the various examples provided in this repository, the examples assume you are running them in a Vertex AI Workbench Notebook Instance that has been assigned the Google Cloud [Compute Engine default service account](https://cloud.google.com/compute/docs/access/service-accounts#default_service_account) (the instructions in the book for setting up the Vertex AI Workbench Notebook Instance include the steps to do this).\n",
    "\n",
    "The prerequisite steps here ensure that the Compute Engine default service account is assigned the relevant roles to perform all activities in the example notebooks in this repository."
   ]
  },
  {
   "cell_type": "markdown",
   "id": "d1830cd0-1179-4954-893f-d0b4b8a9e53c",
   "metadata": {},
   "source": [
    "## Tools\n",
    "\n",
    "### gcloud CLI\n",
    "Google Cloud provides a tool named gcloud, which enables us to interact with Google Cloud services by executing text-based commands. This is particularly useful if we wish to automate sequences of Google Cloud service API actions by composing scripts that run multiple commands in order. \n",
    "\n",
    "### Google Cloud Shell\n",
    "The Google Cloud Shell is a convenient way to use the gcloud CLI. It’s a tool that provides a Linux-based environment in which you can issue commands towards Google Cloud service APIs."
   ]
  },
  {
   "cell_type": "markdown",
   "id": "a3eee297-9de6-42c3-b298-eac0874388e2",
   "metadata": {},
   "source": [
    "## Step 1: Open the Google Cloud Shell\n",
    "\n",
    "You can open the Cloud Shell by clicking on the Cloud Shell symbol in the top right corner of the Google Cloud console screen, as shown in the following image:\n",
    "\n",
    "![cloud-shell-icon](images/cloud-shell.png)"
   ]
  },
  {
   "cell_type": "markdown",
   "id": "547afbce-e1f7-46f2-9e04-09b254c3c9e9",
   "metadata": {},
   "source": [
    "## Step 2: Assign required roles to the Compute Engine default service account\n",
    "\n",
    "In this section, we will also clone our GitHub repository to your Google Cloud Shell environment. To do this, copy and paste the following commands into the Cloud Shell (**Note:** just click \"Authorize\" when prompted by the Cloud Shell):\n",
    "\n",
    "```bash\n",
    "# Get the project number of our current project:\n",
    "export PROJECT_NUMBER=`gcloud projects describe $DEVSHELL_PROJECT_ID --format='value(projectNumber)'`\n",
    "\n",
    "# Add required roles to the Compute Engine default service account\n",
    "for role in \"roles/editor\" \"roles/bigquery.admin\"; do gcloud projects add-iam-policy-binding $DEVSHELL_PROJECT_ID --member=\"serviceAccount:$PROJECT_NUMBER-compute@developer.gserviceaccount.com\" --role=\"$role\"; done\n",
    "```"
   ]
  },
  {
   "cell_type": "markdown",
   "id": "dff09d98-a53c-4c9f-8dfe-ea329e27f0ad",
   "metadata": {},
   "source": [
    "## Step 3: Verify\n",
    "\n",
    "Run the following command to view the role assignments for the Compute Engine default service account:\n",
    "\n",
    "```bash\n",
    "gcloud projects get-iam-policy $DEVSHELL_PROJECT_ID --flatten=\"bindings[].members\" --format=\"table(bindings.role,bindings.members)\" --filter=\"bindings.members:$PROJECT_NUMBER-compute@developer.gserviceaccount.com\"\n",
    "```"
   ]
  },
  {
   "cell_type": "markdown",
   "id": "68fae4cb-11cd-4844-a32e-dc91c5f02dcf",
   "metadata": {},
   "source": [
    "The output should look similar to the following (the order of the list can vary and is not important, just verify that each role exists):\n",
    "\n",
    "```\n",
    "ROLE: roles/bigquery.admin\n",
    "MEMBERS: serviceAccount:YOUR-PROJECT-ID-compute@developer.gserviceaccount.com\n",
    "\n",
    "ROLE: roles/editor\n",
    "MEMBERS: serviceAccount:YOUR-PROJECT-ID-compute@developer.gserviceaccount.com\n",
    "```"
   ]
  },
  {
   "cell_type": "code",
   "execution_count": null,
   "id": "cc409763-a6bc-4004-bb79-ece33015ee34",
   "metadata": {},
   "outputs": [],
   "source": []
  }
 ],
 "metadata": {
  "environment": {
   "kernel": "conda-base-py",
   "name": "workbench-notebooks.m121",
   "type": "gcloud",
   "uri": "us-docker.pkg.dev/deeplearning-platform-release/gcr.io/workbench-notebooks:m121"
  },
  "kernelspec": {
   "display_name": "Python 3 (ipykernel) (Local)",
   "language": "python",
   "name": "conda-base-py"
  },
  "language_info": {
   "codemirror_mode": {
    "name": "ipython",
    "version": 3
   },
   "file_extension": ".py",
   "mimetype": "text/x-python",
   "name": "python",
   "nbconvert_exporter": "python",
   "pygments_lexer": "ipython3",
   "version": "3.10.14"
  }
 },
 "nbformat": 4,
 "nbformat_minor": 5
}
