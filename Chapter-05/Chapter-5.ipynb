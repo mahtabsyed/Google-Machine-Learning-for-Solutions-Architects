{
 "cells": [
  {
   "cell_type": "markdown",
   "id": "934dc6b8-ce17-4077-83e1-175221c8b7cf",
   "metadata": {},
   "source": [
    "# Unsupervised Learning with K-means"
   ]
  },
  {
   "cell_type": "markdown",
   "id": "7e95821d-7f47-44e4-9959-b45d38570967",
   "metadata": {},
   "source": [
    "**Attention:** The code in this notebook creates Google Cloud resources that can incur costs.\n",
    "\n",
    "Refer to the Google Cloud pricing documentation for details.\n",
    "\n",
    "For example:\n",
    "\n",
    "* [Vertex AI Pricing](https://cloud.google.com/vertex-ai/pricing)\n"
   ]
  },
 {
   "cell_type": "markdown",
   "id": "c70b676c-f315-4489-b5b3-c593d32aa187",
   "metadata": {},
   "source": [
    "## Install required packages"
   ]
  },
  {
   "cell_type": "code",
   "execution_count": null,
   "id": "55cd39e7-ef4b-4c9e-8577-b194c862034b",
   "metadata": {
    "tags": []
   },
   "outputs": [],
   "source": [
    "! pip3 install --upgrade xgboost"
   ]
  },
{
   "cell_type": "markdown",
   "id": "e5092e06-64ed-485f-9e24-e1198271b83f",
   "metadata": {},
   "source": [
    "## Restart the kernel\n",
    "\n",
    "The code in the next cell will retart the kernel, which is sometimes required after installing/upgrading packages.\n",
    "\n",
    "**When prompted, click OK to restart the kernel.**\n",
    "\n",
    "The sleep command simply prevents further cells from executing before the kernel restarts."
   ]
  },
  {
   "cell_type": "code",
   "execution_count": null,
   "metadata": {
    "tags": []
   },
   "outputs": [],
   "source": [
    "import IPython\n",
    "\n",
    "app = IPython.Application.instance()\n",
    "app.kernel.do_shutdown(True)\n"
   ]
  },
  {
   "cell_type": "code",
   "execution_count": null,
   "metadata": {
    "tags": []
   },
   "outputs": [],
   "source": [
    "import time\n",
    "time.sleep(10)"
   ]
  },
  {
   "cell_type": "markdown",
   "id": "9fefcdf0-4ef3-4895-8700-347f8cdeceef",
   "metadata": {},
   "source": [
    "# (Wait for kernel to restart before proceeding...)"
   ]
  },
  {
   "cell_type": "code",
   "execution_count": null,
   "id": "e9cc0904-49bb-4ca1-8afc-60dd241f2256",
   "metadata": {},
   "outputs": [],
   "source": [
    "# Import required resources\n",
    "from sklearn.cluster import KMeans\n",
    "from sklearn.datasets import load_iris\n",
    "import pandas as pd # for exploring our data\n",
    "import matplotlib.pyplot as plt # for plotting our clusters\n",
    "from mpl_toolkits.mplot3d import Axes3D # Specifically for creating a 3-D graph"
   ]
  },
  {
   "cell_type": "code",
   "execution_count": null,
   "id": "76542d0c-afe4-40cb-943f-4e556e906915",
   "metadata": {},
   "outputs": [],
   "source": [
    "# Load the Iris dataset:\n",
    "iris = load_iris()\n",
    "# Assign the data to a variable so we can start to use it:\n",
    "iris_data = iris.data"
   ]
  },
  {
   "cell_type": "code",
   "execution_count": null,
   "id": "04cb1f08-dfa0-4f42-971c-05b8437552cd",
   "metadata": {},
   "outputs": [],
   "source": [
    "# Convert the dataset to a pandas data frame for analysis:\n",
    "iris_df = pd.DataFrame(iris_data)\n",
    "# Use the info() function to get some information about the dataset\n",
    "iris_df.info()"
   ]
  },
  {
   "cell_type": "code",
   "execution_count": null,
   "id": "40981517-1ba1-40cb-ae2e-b28700a4a750",
   "metadata": {},
   "outputs": [],
   "source": [
    "# Preview the data\n",
    "iris_df.head()"
   ]
  },
  {
   "cell_type": "code",
   "execution_count": null,
   "id": "aa21b056-64a2-4300-83b1-c514e39f9178",
   "metadata": {},
   "outputs": [],
   "source": [
    "kmeans_model = KMeans(n_clusters=3)\n",
    "kmeans_model.fit(iris_data)\n",
    "kmeans_model.predict(iris_data)\n",
    "labels = kmeans_model.labels_"
   ]
  },
  {
   "cell_type": "code",
   "execution_count": null,
   "id": "549ab0d1-9a71-4e08-a60b-8ddb2e1db7b0",
   "metadata": {},
   "outputs": [],
   "source": [
    "# Create a figure object:\n",
    "fig = plt.figure() \n",
    "# Define the axes (note: the auto_add_to_figure option will default to False from mpl3.5 onwards):\n",
    "axes = Axes3D(fig, auto_add_to_figure=False) \n",
    "# Add the axes to the figure:\n",
    "fig.add_axes(axes) \n",
    "# Create the scatter plot to graph the outputs from our K-means model:\n",
    "axes.scatter(iris_data[:, 2], iris_data[:, 3], iris_data[:, 1], c=labels.astype(float)) \n",
    "# Set the labels for the X, Y, and Z axes:\n",
    "axes.set_xlabel(\"Petal length\") \n",
    "axes.set_ylabel(\"Petal width\") \n",
    "axes.set_zlabel(\"Sepal width\")  "
   ]
  },
  {
   "cell_type": "markdown",
   "id": "6d2df2b2-b459-46a3-a3c9-6e9142c5cd93",
   "metadata": {},
   "source": [
    "# Supervised Learning: Linear Regression with scikit-learn"
   ]
  },
  {
   "cell_type": "code",
   "execution_count": null,
   "id": "d9d5df41-fc44-4508-bf06-26bd7adf2972",
   "metadata": {},
   "outputs": [],
   "source": [
    "# Import necessary resources\n",
    "from sklearn.linear_model import LinearRegression\n",
    "from sklearn.metrics import mean_squared_error\n",
    "from sklearn.model_selection import train_test_split"
   ]
  },
  {
   "cell_type": "code",
   "execution_count": null,
   "id": "e3b2b4ec-b9d2-4e6e-8666-bda5bfdfe5de",
   "metadata": {},
   "outputs": [],
   "source": [
    "# Set the target variable\n",
    "target = iris_df[[2]]"
   ]
  },
  {
   "cell_type": "code",
   "execution_count": null,
   "id": "b94b5050-d678-4bb2-86fa-efffe987ba9f",
   "metadata": {},
   "outputs": [],
   "source": [
    "# Define the input_features\n",
    "input_feats = iris_df[[0, 1, 3]]"
   ]
  },
  {
   "cell_type": "code",
   "execution_count": null,
   "id": "99074887-1642-4215-ba6a-34d79f45c1d1",
   "metadata": {},
   "outputs": [],
   "source": [
    "# Split the dataset for training and testing\n",
    "input_train, input_test, target_train, target_test=train_test_split(input_feats,target,test_size=0.2)"
   ]
  },
  {
   "cell_type": "code",
   "execution_count": null,
   "id": "6ae759ec-9f30-426c-94d8-625186123f26",
   "metadata": {},
   "outputs": [],
   "source": [
    "# Create an instance of a LinearRegression model\n",
    "lreg_model = LinearRegression()\n",
    "\n",
    "# Train the model by fitting it to the training data\n",
    "lreg_model.fit(input_train,target_train)\n",
    "\n",
    "# Use the test set to generate predictions\n",
    "target_predictions=lreg_model.predict(input_test)"
   ]
  },
  {
   "cell_type": "code",
   "execution_count": null,
   "id": "9ecbd0e9-3e0e-463b-80f8-6759b696bb18",
   "metadata": {},
   "outputs": [],
   "source": [
    "# Preview the predictions in a pandas data frame\n",
    "pred_df = pd.DataFrame(target_predictions[0:5])\n",
    "pred_df.head()"
   ]
  },
  {
   "cell_type": "code",
   "execution_count": null,
   "id": "14f3006a-a555-4aa5-a50a-fd79aed9f89c",
   "metadata": {},
   "outputs": [],
   "source": [
    "# Preview the known, correct answers\n",
    "target_test.head()"
   ]
  },
  {
   "cell_type": "code",
   "execution_count": null,
   "id": "490293c8-26d7-4c38-ac4f-2ebce11651cb",
   "metadata": {},
   "outputs": [],
   "source": [
    "# Calculate the Mean Squared Error (MSE)\n",
    "mean_squared_error(target_test,target_predictions)"
   ]
  },
  {
   "cell_type": "markdown",
   "id": "78b8b520-1f29-4874-9ae8-b73956b7fd47",
   "metadata": {},
   "source": [
    "# Supervised Learning: Multi-class Classification with XGBoost"
   ]
  },
  {
   "cell_type": "code",
   "execution_count": null,
   "id": "5ce0fd33-0502-43a0-a08d-37752ad1e7c5",
   "metadata": {},
   "outputs": [],
   "source": [
    "# Import required resources\n",
    "from xgboost import XGBClassifier\n",
    "from sklearn.metrics import accuracy_score"
   ]
  },
  {
   "cell_type": "code",
   "execution_count": null,
   "id": "860b7ca4-8b23-4053-b080-936b28758cbf",
   "metadata": {},
   "outputs": [],
   "source": [
    "# Assign the target variable\n",
    "iris_classes = iris.target"
   ]
  },
  {
   "cell_type": "code",
   "execution_count": null,
   "id": "c207713b-bc95-4631-961b-d7fb4695e596",
   "metadata": {},
   "outputs": [],
   "source": [
    "# View the classes\n",
    "iris_classes"
   ]
  },
  {
   "cell_type": "code",
   "execution_count": null,
   "id": "8860511e-4c4d-4775-b068-3a8cbf2fbf39",
   "metadata": {},
   "outputs": [],
   "source": [
    "# Split the data for training and testing\n",
    "xgb_input_train, xgb_input_test, xgb_target_train, xgb_target_test = train_test_split(iris_data, iris_classes, test_size=.2)"
   ]
  },
  {
   "cell_type": "code",
   "execution_count": null,
   "id": "b77a7715-321f-4759-be1f-d8895b586e7e",
   "metadata": {},
   "outputs": [],
   "source": [
    "# create model instance\n",
    "xgbc = XGBClassifier(n_estimators=2, max_depth=2, learning_rate=1, objective='multi:softmax')"
   ]
  },
  {
   "cell_type": "code",
   "execution_count": null,
   "id": "c3ba7d87-6cb8-44ee-b7b1-e30bcfc9f00b",
   "metadata": {},
   "outputs": [],
   "source": [
    "# Train the model\n",
    "xgbc.fit(xgb_input_train, xgb_target_train)"
   ]
  },
  {
   "cell_type": "code",
   "execution_count": null,
   "id": "90fb2576-263b-4e6e-8aa5-b2dfc7d35883",
   "metadata": {},
   "outputs": [],
   "source": [
    "# make predictions\n",
    "xgb_predictions = xgbc.predict(xgb_input_test)"
   ]
  },
  {
   "cell_type": "code",
   "execution_count": null,
   "id": "8b2182f0-eea0-40ea-840e-ec69c5d61989",
   "metadata": {},
   "outputs": [],
   "source": [
    "# View the predictions\n",
    "xgb_predictions"
   ]
  },
  {
   "cell_type": "code",
   "execution_count": null,
   "id": "84a9a1cf-ae2b-4142-9afe-cd8bb3f8c835",
   "metadata": {},
   "outputs": [],
   "source": [
    "# View the known, correct answers\n",
    "xgb_target_test"
   ]
  },
  {
   "cell_type": "code",
   "execution_count": null,
   "id": "7d854992-1936-4d6b-af94-8affb90e78b7",
   "metadata": {},
   "outputs": [],
   "source": [
    "# Calculate the accuracy of the predictions\n",
    "accuracy_score(xgb_target_test,xgb_predictions)"
   ]
  },
  {
   "cell_type": "code",
   "execution_count": null,
   "id": "d20b79d5-bddf-4352-80c7-72bb79db17af",
   "metadata": {},
   "outputs": [],
   "source": []
  }
 ],
 "metadata": {
  "kernelspec": {
   "display_name": "XGBoost (Local)",
   "language": "python",
   "name": "local-xgboost"
  },
  "language_info": {
   "codemirror_mode": {
    "name": "ipython",
    "version": 3
   },
   "file_extension": ".py",
   "mimetype": "text/x-python",
   "name": "python",
   "nbconvert_exporter": "python",
   "pygments_lexer": "ipython3",
   "version": "3.7.12"
  }
 },
 "nbformat": 4,
 "nbformat_minor": 5
}
