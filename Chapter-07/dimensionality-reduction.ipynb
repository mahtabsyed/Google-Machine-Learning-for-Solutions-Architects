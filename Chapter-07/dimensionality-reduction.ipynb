{
 "cells": [
  {
   "cell_type": "markdown",
   "id": "cd7b5888-7e05-4bea-8372-171aa7c639a1",
   "metadata": {},
   "source": [
    "# Using PCA and LDA for dimensionality reduction\n",
    "\n",
    "The wine dataset is an example of multivariate dataset, which contains the results of a chemical analysis of wines grown in the same region in Italy but derived from three different types of grapes (referred to as “cultivars”). The analysis focused on quantifying 13 constituents found in each of the three types of wines. \n",
    "Using PCA on this dataset will help us to understanding the important features, because by looking at the weights of the original features in the principal components, we can see which features contribute most to the variability in the wine dataset."
   ]
  },
  {
   "cell_type": "markdown",
   "id": "7e95821d-7f47-44e4-9959-b45d38570967",
   "metadata": {},
   "source": [
    "**Attention:** The code in this notebook creates Google Cloud resources that can incur costs.\n",
    "\n",
    "Refer to the Google Cloud pricing documentation for details.\n",
    "\n",
    "For example:\n",
    "\n",
    "* [Vertex AI Pricing](https://cloud.google.com/vertex-ai/pricing)\n"
   ]
  },
  {
   "cell_type": "code",
   "execution_count": null,
   "id": "ace1cd26-adbf-4e24-af8e-d13cbac2b52e",
   "metadata": {},
   "outputs": [],
   "source": [
    "from sklearn.datasets import load_wine\n",
    "from sklearn.preprocessing import StandardScaler\n",
    "from sklearn.decomposition import PCA\n",
    "import matplotlib.pyplot as plt\n",
    "import pandas as pd\n",
    "\n",
    "# Load dataset\n",
    "data = load_wine()\n",
    "df = pd.DataFrame(data.data, columns=data.feature_names)\n",
    "\n",
    "# Standardize the features\n",
    "scaler = StandardScaler()\n",
    "df = scaler.fit_transform(df)\n",
    "\n",
    "# Apply PCA\n",
    "pca = PCA(n_components=2)\n",
    "principalComponents = pca.fit_transform(df)\n",
    "principalDf = pd.DataFrame(data = principalComponents, columns = ['principal component 1', 'principal component 2'])\n",
    "\n",
    "# Visualize 2D Projection\n",
    "plt.figure(figsize=(8,6))\n",
    "plt.scatter(principalDf['principal component 1'], principalDf['principal component 2'], c=data.target)\n",
    "plt.xlabel('Principal Component 1')\n",
    "plt.ylabel('Principal Component 2')\n",
    "plt.show()\n"
   ]
  },
  {
   "cell_type": "markdown",
   "id": "cbf3cf28-50ec-4553-9761-21831d7e5b84",
   "metadata": {},
   "source": [
    "We can also then use the following code to print a table, where the values in the table represent the weights of each feature in each component."
   ]
  },
  {
   "cell_type": "code",
   "execution_count": null,
   "id": "56c10e1f-035c-4858-bf4a-ce9efaf3c1a0",
   "metadata": {},
   "outputs": [],
   "source": [
    "components_df = pd.DataFrame(pca.components_, columns=data.feature_names, index=['Component 1', 'Component 2'])\n",
    "\n",
    "print(components_df)"
   ]
  },
  {
   "cell_type": "markdown",
   "id": "763f7edc-5a02-4348-a2a6-d927af5d0308",
   "metadata": {},
   "source": [
    "Next, let's use LDA to to identify the constituents that account for the most variance between the types of wine."
   ]
  },
  {
   "cell_type": "code",
   "execution_count": null,
   "id": "42f63b20-7eea-47aa-82de-538432338721",
   "metadata": {},
   "outputs": [],
   "source": [
    "from sklearn.discriminant_analysis import LinearDiscriminantAnalysis as LDA\n",
    "\n",
    "# Apply LDA\n",
    "lda = LDA(n_components=2)\n",
    "lda_components = lda.fit_transform(df, data.target)\n",
    "lda_df = pd.DataFrame(data = lda_components, columns = ['LDA 1', 'LDA 2'])\n",
    "\n",
    "# Visualize 2D Projection\n",
    "plt.figure(figsize=(8,6))\n",
    "plt.scatter(lda_df['LDA 1'], lda_df['LDA 2'], c=data.target)\n",
    "plt.xlabel('LDA 1')\n",
    "plt.ylabel('LDA 2')\n",
    "plt.show()\n"
   ]
  },
  {
   "cell_type": "markdown",
   "id": "f2f62954-7439-4777-93b9-f88735a4050e",
   "metadata": {},
   "source": [
    "To view the most discriminative features, you can inspect the coef_ attribute of the fitted LDA object:"
   ]
  },
  {
   "cell_type": "code",
   "execution_count": null,
   "id": "51150f7e-7bb7-45b1-a312-c16650f66258",
   "metadata": {},
   "outputs": [],
   "source": [
    "# Create a DataFrame with the LDA coefficients and feature names\n",
    "coef_df = pd.DataFrame(lda.coef_, columns=data.feature_names, index=['Class 1 vs Rest', 'Class 2 vs Rest', 'Class 3 vs Rest'])\n",
    "print(coef_df)\n"
   ]
  }
 ],
 "metadata": {
  "kernelspec": {
   "display_name": "Python (Local)",
   "language": "python",
   "name": "local-base"
  },
  "language_info": {
   "codemirror_mode": {
    "name": "ipython",
    "version": 3
   },
   "file_extension": ".py",
   "mimetype": "text/x-python",
   "name": "python",
   "nbconvert_exporter": "python",
   "pygments_lexer": "ipython3",
   "version": "3.7.12"
  }
 },
 "nbformat": 4,
 "nbformat_minor": 5
}
