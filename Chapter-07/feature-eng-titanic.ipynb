{
 "cells": [
  {
   "cell_type": "markdown",
   "id": "0dd6c5a9-f1b1-44f5-b250-79967cca9dae",
   "metadata": {},
   "source": [
    "# Feature Engineering with the Titanic dataset\n",
    "\n",
    "This notebook contains examples of feature engineering steps using the Titanic dataset from OpenML, the details of which can be found [here](https://www.openml.org/search?type=data&sort=runs&id=40945&status=active).\n",
    "\n",
    "## First, import libraries, and load and explore the data.\n",
    "\n",
    "We will use the [pandas](https://pandas.pydata.org/) library to load, explore, and process the data.\n",
    "We also use [sklearn.impute.SimpleImputer](https://scikit-learn.org/stable/modules/generated/sklearn.impute.SimpleImputer.html) and [sklearn.preprocessing.OneHotEncoder](https://scikit-learn.org/stable/modules/generated/sklearn.preprocessing.OneHotEncoder.html#sklearn.preprocessing.OneHotEncoder) to perform some of the feature manipulation steps.\n",
    "\n",
    "In the OpenML Titanic dataset, missing entries are represented by a question mark ('?'). We use the pandas.read_csv() method to read in the data, and we specify that '?' represents missing values."
   ]
  },
  {
   "cell_type": "markdown",
   "id": "7e95821d-7f47-44e4-9959-b45d38570967",
   "metadata": {},
   "source": [
    "**Attention:** The code in this notebook creates Google Cloud resources that can incur costs.\n",
    "\n",
    "Refer to the Google Cloud pricing documentation for details.\n",
    "\n",
    "For example:\n",
    "\n",
    "* [Vertex AI Pricing](https://cloud.google.com/vertex-ai/pricing)\n"
   ]
  },
  {
   "cell_type": "code",
   "execution_count": null,
   "id": "80c3f026-9d3b-4dd4-bb45-07b726c39e46",
   "metadata": {},
   "outputs": [],
   "source": [
    "import pandas as pd\n",
    "import numpy as np\n",
    "from sklearn.impute import SimpleImputer\n",
    "from sklearn.preprocessing import OneHotEncoder\n",
    "\n",
    "# Load the data, and specify that '?' represents missing values\n",
    "titanic = pd.read_csv('https://www.openml.org/data/get_csv/16826755/phpMYEkMl', na_values='?')\n",
    "\n",
    "# Preview the data\n",
    "titanic.head()"
   ]
  },
  {
   "cell_type": "markdown",
   "id": "c3eafea1-797a-427a-9677-69fe39aad1d4",
   "metadata": {},
   "source": [
    "## Check for missing data\n",
    "\n",
    "Before we begin our feature engineering steps, one of the first tings we want to do is to see if our dataset has any missing values. The following code will summarize how many missing values exist for each feature:"
   ]
  },
  {
   "cell_type": "code",
   "execution_count": null,
   "id": "febccf23-47ab-41d2-9ec2-e889eac57e47",
   "metadata": {},
   "outputs": [],
   "source": [
    "# Identify columns with missing values\n",
    "missing_values = titanic.isnull().sum()\n",
    "print(missing_values)"
   ]
  },
  {
   "cell_type": "markdown",
   "id": "fdff90be-8723-43f1-bf90-b1382d0c48d3",
   "metadata": {},
   "source": [
    "## Feature Engineering\n",
    "\n",
    "Next, we will perform data preparation and feature engineering steps.\n",
    "\n",
    "### Replace missing data\n",
    "\n",
    "There are many ways in which we can replace missing data. In this case, we will replace missing values with the `median` for numeric features, or the `mode` for categorical features."
   ]
  },
  {
   "cell_type": "code",
   "execution_count": 4,
   "id": "2c4caf92-1edf-4dcf-a1ee-4a7577860be1",
   "metadata": {
    "tags": []
   },
   "outputs": [],
   "source": [
    "# Iterate over each column\n",
    "for col in titanic.columns:\n",
    "    # Skip columns with no missing values\n",
    "    if missing_values[col] == 0:\n",
    "        continue\n",
    "    \n",
    "    # For numerical columns, use median to replace missing values\n",
    "    if titanic[col].dtype in ['float64', 'int64']:\n",
    "        titanic[col] = titanic[col].fillna(titanic[col].median()) \n",
    "    # For categorical columns, use mode to replace missing values\n",
    "    else:\n",
    "        titanic[col] = titanic[col].fillna(titanic[col].mode()[0])   \n"
   ]
  },
  {
   "cell_type": "markdown",
   "id": "10c94b5a-ae5a-48d7-b442-a512e22883ff",
   "metadata": {},
   "source": [
    "Verify that no missing values remain:"
   ]
  },
  {
   "cell_type": "code",
   "execution_count": null,
   "id": "233a84a6-94b2-44eb-935f-466578604c83",
   "metadata": {},
   "outputs": [],
   "source": [
    "missing_values = titanic.isnull().sum()\n",
    "print(missing_values)"
   ]
  },
  {
   "cell_type": "markdown",
   "id": "36f4428b-8d2c-4f49-8eb0-1ca6e03bccee",
   "metadata": {},
   "source": [
    "## Engineering and encoding features\n",
    "\n",
    "In this section, we explore how we can use the existing features in the dataset to create new features that could help our ML model to make better predictions."
   ]
  },
  {
   "cell_type": "markdown",
   "id": "f3c8498d-04f1-49ea-a528-8893c91f5cb7",
   "metadata": {},
   "source": [
    "### Create a new feature named 'Title'\n",
    "\n",
    "It’s unlikely that the passenger’s name would affect the outcome, nor their ticket number or port of embarkation. However, we could engineer a new feature named “Title”, which is extracted from the passengers’ names, and which could provide valuable information related to social status, occupation, marital status, and age, which might not be immediately apparent from the other features. We could also clean up this new feature by merging similar titles such as “Miss” and “Ms”, and identifying elevated titles as “Distinguished”. The code to do that would be as follows: "
   ]
  },
  {
   "cell_type": "code",
   "execution_count": null,
   "id": "aee1fbce-1aaf-4ae8-b8e0-b6386e2db91d",
   "metadata": {},
   "outputs": [],
   "source": [
    "# Create a new feature \"Title\", this is extracted from the name feature\n",
    "def get_title(name):\n",
    "    if '.' in name:\n",
    "        return name.split(',')[1].split('.')[0].strip()\n",
    "    else:\n",
    "        return 'Unknown'\n",
    "        \n",
    "# Create a new \"Title\" feature\n",
    "titanic['Title'] = titanic['name'].apply(get_title)\n",
    "\n",
    "# Simplify the titles, merge less common titles into the same category\n",
    "titanic['Title'] = titanic['Title'].replace(['Lady', 'Countess','Capt', 'Col','Don', 'Dr', \n",
    "                                             'Major', 'Rev', 'Sir', 'Jonkheer', 'Dona'], 'Distinguished')\n",
    "titanic['Title'] = titanic['Title'].replace('Mlle', 'Miss')\n",
    "titanic['Title'] = titanic['Title'].replace('Ms', 'Miss')\n",
    "titanic['Title'] = titanic['Title'].replace('Mme', 'Mrs')"
   ]
  },
  {
   "cell_type": "markdown",
   "id": "ff290051-44b3-4df3-a72c-85f7c2aaa806",
   "metadata": {},
   "source": [
    "### Create 'CabinClass', 'FamilySize', 'IsAlone', and 'FarePerPerson' features\n",
    "\n",
    "Next, let’s consider the Fare and Cabin features. These could be somewhat correlated with class, but we will dive into these features in more detail. For the Cabin feature, we could extract another feature named CabinClass, which more clearly represents the class associated with each entry.\n",
    "\n",
    "Let’s also ensure that we represent the fare as accurately as possible by considering that people may have purchased fares as families traveling together. To do this, we would first create a new feature named \"FamilySize\" as a combination of the SibSp and Parch features (adding an additional “1” to account for the current passenger), and then compute a “FarePerPerson” by dividing the Fare feature by the FamilySize feature.\n",
    "\n",
    "Also, whether somebody is traveling alone or with their family could  affect their chances of survival. For example, family members could help each other when trying to get to the lifeboats. Let’s therefore create a feature from the FamilySize feature that identifies whether a passenger was traveling alone, with the following code: "
   ]
  },
  {
   "cell_type": "code",
   "execution_count": null,
   "id": "ec84cd8a-694f-4170-863e-0b41c55d955f",
   "metadata": {},
   "outputs": [],
   "source": [
    "# Create \"CabinClass\" feature\n",
    "titanic['CabinClass'] = titanic['cabin'].apply(lambda x: x[0] if pd.notna(x) else 'U')\n",
    "\n",
    "# Create a new feature \"FamilySize\" as a combination of sibsp and parch\n",
    "titanic['FamilySize'] = titanic['sibsp'] + titanic['parch'] + 1\n",
    "\n",
    "# Create new feature \"IsAlone\" from \"FamilySize\"\n",
    "titanic['IsAlone'] = 0\n",
    "titanic.loc[titanic['FamilySize'] == 1, 'IsAlone'] = 1\n",
    "\n",
    "# Convert 'fare' from object type to numeric\n",
    "titanic['fare'] = pd.to_numeric(titanic['fare'], errors='coerce')\n",
    "\n",
    "# Create \"FarePerPerson\" feature\n",
    "# Handle any division by zero issues\n",
    "titanic['FarePerPerson'] = titanic['fare'] / titanic['FamilySize'].replace(0, np.nan)"
   ]
  },
  {
   "cell_type": "markdown",
   "id": "71ed2a7e-9642-41ad-a74d-8eb352277330",
   "metadata": {},
   "source": [
    "### Create 'AgeGroup' feature\n",
    "\n",
    "Next, let’s consider how age affects the likelihood of survival. People who are very young, or elderly, may unfortunately have less likelihood of surviving unless they had people to help them. However, we may not need yearly and fractional-yearly granularity when considering age in this context, and perhaps grouping people into age groups may be more effective. In that case, we can use the following code to create a new feature named AgeGroup, which will group passengers by decades such as 0-9, 10-19, 20-29, and so on."
   ]
  },
  {
   "cell_type": "code",
   "execution_count": null,
   "id": "f36f06e1-5b1a-47a7-95d3-191fd9848c5b",
   "metadata": {},
   "outputs": [],
   "source": [
    "# Create \"AgeGroup\" feature\n",
    "bins = [0, 10, 20, 30, 40, 50, 60, 70, np.inf]\n",
    "labels = ['0-9', '10-19', '20-29', '30-39', '40-49', '50-59', '60-69', '70+']\n",
    "titanic['AgeGroup'] = pd.cut(titanic['age'], bins=bins, labels=labels)"
   ]
  },
  {
   "cell_type": "markdown",
   "id": "8cf87cfc-a706-4371-aa4e-5a34d6103fa2",
   "metadata": {},
   "source": [
    "### Encode features\n",
    "\n",
    "We also want to convert the categorical features into numerical values using one-hot encoding, because ML models typically require numeric values."
   ]
  },
  {
   "cell_type": "code",
   "execution_count": null,
   "id": "38bf0304-d59f-482a-b5d1-296010fc44eb",
   "metadata": {},
   "outputs": [],
   "source": [
    "# Convert \"Title\" into numerical values using one-hot encoding\n",
    "one_hot = OneHotEncoder()\n",
    "title_encoded = one_hot.fit_transform(titanic[['Title']]).toarray()\n",
    "title_encoded_df = pd.DataFrame(title_encoded, columns=one_hot.get_feature_names_out(['Title']))\n",
    "titanic = pd.concat([titanic, title_encoded_df], axis=1)\n",
    "\n",
    "# Convert \"AgeGroup\" into numerical values using one-hot encoding\n",
    "age_group_encoded = one_hot.fit_transform(titanic[['AgeGroup']]).toarray()\n",
    "age_group_encoded_df = pd.DataFrame(age_group_encoded, columns=one_hot.get_feature_names_out(['AgeGroup']))\n",
    "titanic = pd.concat([titanic, age_group_encoded_df], axis=1)\n",
    "\n",
    "# Convert CabinClass into numerical values using one-hot encoding\n",
    "cabin_class_encoded = one_hot.fit_transform(titanic[['CabinClass']]).toarray()\n",
    "cabin_class_encoded_df = pd.DataFrame(cabin_class_encoded, columns=one_hot.get_feature_names_out(['CabinClass']))\n",
    "titanic = pd.concat([titanic, cabin_class_encoded_df], axis=1)\n",
    "\n",
    "# Convert sex into numerical values using one-hot encoding\n",
    "sex_encoded = one_hot.fit_transform(titanic[['sex']]).toarray()\n",
    "sex_encoded_df = pd.DataFrame(sex_encoded, columns=one_hot.get_feature_names_out(['sex']))\n",
    "titanic = pd.concat([titanic, sex_encoded_df], axis=1)\n",
    "\n",
    "# Convert embarked into numerical values using one-hot encoding\n",
    "embarked_encoded = one_hot.fit_transform(titanic[['embarked']]).toarray()\n",
    "embarked_encoded_df = pd.DataFrame(embarked_encoded, columns=one_hot.get_feature_names_out(['embarked']))\n",
    "titanic = pd.concat([titanic, embarked_encoded_df], axis=1)\n",
    "\n",
    "# Drop irrelevant and non-encoded features\n",
    "titanic = titanic.drop(['name', 'ticket', 'Title', 'cabin', 'sex', 'embarked', 'AgeGroup', 'CabinClass', 'home.dest'], axis=1)"
   ]
  },
  {
   "cell_type": "markdown",
   "id": "c5a9cea2-1101-4dc1-a8ab-12a95eb71ec7",
   "metadata": {},
   "source": [
    "## View all columns in updated dataset"
   ]
  },
  {
   "cell_type": "code",
   "execution_count": null,
   "id": "542acaac-277d-491c-b730-6c274f0407ed",
   "metadata": {},
   "outputs": [],
   "source": [
    "titanic.columns"
   ]
  },
  {
   "cell_type": "markdown",
   "id": "103fa2e8-a400-4162-9789-ce00eaa79350",
   "metadata": {},
   "source": [
    "## Preview the updated dataset "
   ]
  },
  {
   "cell_type": "code",
   "execution_count": null,
   "id": "871477f8-bf67-4f4c-b474-431102ce9e0d",
   "metadata": {},
   "outputs": [],
   "source": [
    "titanic.head()"
   ]
  },
  {
   "cell_type": "code",
   "execution_count": null,
   "id": "1bf98a78-cc86-40fa-99d6-f4e320262aff",
   "metadata": {},
   "outputs": [],
   "source": []
  }
 ],
 "metadata": {
  "kernelspec": {
   "display_name": "Python (Local)",
   "language": "python",
   "name": "local-base"
  },
  "language_info": {
   "codemirror_mode": {
    "name": "ipython",
    "version": 3
   },
   "file_extension": ".py",
   "mimetype": "text/x-python",
   "name": "python",
   "nbconvert_exporter": "python",
   "pygments_lexer": "ipython3",
   "version": "3.7.12"
  }
 },
 "nbformat": 4,
 "nbformat_minor": 5
}
